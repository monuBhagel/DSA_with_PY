{
 "cells": [
  {
   "cell_type": "markdown",
   "id": "3cf99d85",
   "metadata": {},
   "source": [
    "### Here  we will do \n",
    "\n",
    "1. create a referential array which mimic the working of a python list. \n",
    "2. making len() to check the length of array. ✅\n",
    "3. adding append function. ✅ \n",
    "4. print() function.✅\n",
    "5. simple one number indexing.✅\n",
    "6. pop().\n",
    "7. clear().\n",
    "8. findIndexOf (). to find item'index by it's value.\n",
    "9. insertAtIndex(). to insert value at certain index.\n",
    "10. delFromIndex(). to delete value from index."
   ]
  },
  {
   "cell_type": "code",
   "execution_count": null,
   "id": "45a0040f",
   "metadata": {},
   "outputs": [],
   "source": [
    "# creating referential array.\n",
    "import ctypes\n",
    "\n",
    "class RefArray:\n",
    "    \n",
    "    # constructor to initialize the array\n",
    "    def __init__(self):\n",
    "        \n",
    "        self.array_size = 1\n",
    "        self.element_count = 0\n",
    "        \n",
    "        # initial function call.\n",
    "        self.array = self.__create_array(self.array_size) # function call to create an array of size 1\n",
    "    \n",
    "    '''-----------------------------------------------------------------------------------------------'''\n",
    "    def __len__(self):\n",
    "        return self.element_count\n",
    "     # def __str__(self): ## this function allow us to print the things we want when we use print() \n",
    "                        ## on object directly without we only the address of the object.\n",
    "                        # #     return f\"you just created an array of size {self.size} & it has {self.items} items in it.\"\n",
    "    '''-----------------------------------------------------------------------------------------------'''\n",
    "    # append function.\n",
    "    def append(self, item):\n",
    "        # check if array is full or not \n",
    "        if self.element_count == self.array_size:\n",
    "            # resize the array\n",
    "            self.__resize(self.array_size * 2) # double the size of the array.\n",
    "        \n",
    "    #     # append the item to the array & increase the item count.\n",
    "    #     self.array[self.element_count] = item\n",
    "    #     self.element_count = self.element_count + 1\n",
    "    \n",
    "    # # experimental append function  with .lower() method.\n",
    "    #     # append the item to the array & increase the item count.\n",
    "        self.array[self.element_count] = item.lower() if isinstance(item, str) else item\n",
    "        self.element_count += 1\n",
    "\n",
    "    '''-----------------------------------------------------------------------------------------------'''\n",
    "    # resize function definition \n",
    "    def __resize(self, new_size):\n",
    "        # create a new array of increased size.\n",
    "        new_arr = self.__create_array(new_size)\n",
    "        self.array_size = new_size\n",
    "        \n",
    "        # now copy the old array into the new array.\n",
    "        for i in range(self.element_count):\n",
    "            new_arr[i] = self.array[i]\n",
    "        # now remane the new array to the old array.\n",
    "        self.array = new_arr\n",
    "   \n",
    "    '''------------------------------------------------------------------------------------------------'''\n",
    "    # check if array is empty or not.\n",
    "    def isEmpty(self):\n",
    "        return True if self.element_count == 0 else False\n",
    "    \n",
    "    # check if array is full or not.\n",
    "    def isFull(self):\n",
    "        return True if self.element_count == self.array_size else False\n",
    "    \n",
    "    def isSpaceAvailable(self):\n",
    "        return True if self.element_count < self.array_size else False\n",
    "    \n",
    "    '''------------------------------------------------------------------------------------------------'''\n",
    "    # print function to print the array items.\n",
    "    \n",
    "    def __str__(self):\n",
    "        \n",
    "        result = ''\n",
    "        for i in range(self.element_count):\n",
    "           result = result + str(self.array[i]) + ','\n",
    "        return f'[{result[:-1]}]'\n",
    "        '''ALSO TRY THE BELOW ONE .'''\n",
    "        # def print(self):\n",
    "        #     result = ''\n",
    "        #     for i in range(self.items):\n",
    "        #        result = result + str(self.arr[i]) + ' -> '\n",
    "        #     return f\"[{result[:-4]}]\"\n",
    "    '''------------------------------------------------------------------------------------------------'''\n",
    "    # simple indexing functionality.\n",
    "    def __getitem__(self, index): \n",
    "        if index < self.element_count and index >=0:\n",
    "            return self.array[index]\n",
    "        else:\n",
    "            return IndexError(\"Index out of range\")\n",
    "       \n",
    "    '''------------------------------------------------------------------------------------------------'''\n",
    "    # pop funtion\n",
    "    def pop(self):\n",
    "        if self.element_count > 0: # check if array is empty or not.\n",
    "            \n",
    "            temp_item = self.array[self.element_count - 1]\n",
    "            \n",
    "            self.element_count = self.element_count - 1 # decrement the item count.\n",
    "            return temp_item\n",
    "        else:\n",
    "            return IndexError(\"array is empty !!\")\n",
    "    \n",
    "    '''------------------------------------------------------------------------------------------------'''\n",
    "    # clear function.\n",
    "    def clear(self):\n",
    "        if self.element_count == 0 and self.array_size == 1:\n",
    "            return \"array is already empty !!\"\n",
    "        else:\n",
    "            self.element_count = 0 # reset the item count to 0.\n",
    "            self.array_size = 1\n",
    "    \n",
    "    '''------------------------------------------------------------------------------------------------'''\n",
    "    # findIndexOf function.\n",
    "    def findIndexOf(self, item):\n",
    "        for i in range(self.element_count):\n",
    "            if self.array[i] == item.lower() if isinstance(item, str) else item:\n",
    "                return i\n",
    "        return -1\n",
    "   \n",
    "    '''------------------------------------------------------------------------------------------------'''\n",
    "    # insertAtIndex function.\n",
    "    def insertAtIndex(self,index,item):\n",
    "        if self.isEmpty():\n",
    "            return f\"array is empty !! item will be inserted at index 0. {self.append(item)}\" \n",
    "        \n",
    "        elif self.isFull():\n",
    "            self.__resize(self.array_size * 2)\n",
    "            \n",
    "            \n",
    "        else:\n",
    "            for i in reversed(range(self.element_count)): # this do some extra iterations then normal for loop.\n",
    "                if i >= index:\n",
    "                    self.array[i + 1] = self.array[i]\n",
    "           \n",
    "            self.array[index] = item.lower() if isinstance(item, str) else item\n",
    "            self.element_count += 1\n",
    "           \n",
    "   \n",
    "    '''------------------------------------------------------------------------------------------------'''\n",
    "    # delFromIndex function.\n",
    "    \n",
    "    '''------------------------------------------------------------------------------------------------'''\n",
    "\n",
    "    def __create_array(self,size) : # function to create an array of some given size.\n",
    "        return(size * ctypes.py_object)() \n",
    "        '''return an array of some given size & this is an referential array which means\n",
    "        it can hold any type of object or data .''' \n",
    "    \n",
    "    '''------------------------------------------------------------------------------------------------'''\n",
    "    "
   ]
  },
  {
   "cell_type": "code",
   "execution_count": null,
   "id": "db4af76e",
   "metadata": {},
   "outputs": [],
   "source": [
    "# creating an object of RefArray.\n",
    "\n",
    "ref_array = RefArray()\n",
    "\n",
    "print(ref_array) \n",
    "'''as we just created an object of RefArray class \n",
    "so this statement will print the object reference or say memort address.\n",
    "like this  <__main__.RefArray object at 0x119e1dcd0>'''"
   ]
  },
  {
   "cell_type": "code",
   "execution_count": null,
   "id": "2a07a98f",
   "metadata": {},
   "outputs": [],
   "source": [
    "ref_array.append(1)\n",
    "ref_array.append(2)\n",
    "ref_array.append(3)\n",
    "ref_array.append(4)\n",
    "ref_array.append('Hello')"
   ]
  },
  {
   "cell_type": "code",
   "execution_count": null,
   "id": "d2d846b4",
   "metadata": {},
   "outputs": [],
   "source": [
    "# using the len() function on the array.\n",
    "len(ref_array)"
   ]
  },
  {
   "cell_type": "code",
   "execution_count": null,
   "id": "3ace0605",
   "metadata": {},
   "outputs": [],
   "source": [
    "print(ref_array)"
   ]
  },
  {
   "cell_type": "code",
   "execution_count": null,
   "id": "34570e25",
   "metadata": {},
   "outputs": [],
   "source": [
    "# indexing\n",
    "ref_array[3]"
   ]
  },
  {
   "cell_type": "code",
   "execution_count": null,
   "id": "8bd3c34c",
   "metadata": {},
   "outputs": [],
   "source": [
    "ref_array.findIndexOf('Hello')"
   ]
  },
  {
   "cell_type": "code",
   "execution_count": null,
   "id": "54c5bb58",
   "metadata": {},
   "outputs": [],
   "source": [
    "# pop \n",
    "ref_array.pop()"
   ]
  },
  {
   "cell_type": "code",
   "execution_count": null,
   "id": "f22f1a46",
   "metadata": {},
   "outputs": [],
   "source": [
    "# clear\n",
    "ref_array.clear()"
   ]
  },
  {
   "cell_type": "code",
   "execution_count": null,
   "id": "730def1a",
   "metadata": {},
   "outputs": [],
   "source": [
    "print(ref_array)"
   ]
  },
  {
   "cell_type": "code",
   "execution_count": null,
   "id": "96f2c472",
   "metadata": {},
   "outputs": [],
   "source": [
    "ref_array.insertAtIndex(2,'new item')\n",
    "ref_array.insertAtIndex(5,'new item')"
   ]
  },
  {
   "cell_type": "code",
   "execution_count": null,
   "id": "109aea61",
   "metadata": {},
   "outputs": [],
   "source": [
    "ref_array.clear()"
   ]
  },
  {
   "cell_type": "code",
   "execution_count": null,
   "id": "889b7440",
   "metadata": {},
   "outputs": [],
   "source": [
    "ref_array.insertAtIndex(5,'new item')"
   ]
  },
  {
   "cell_type": "code",
   "execution_count": null,
   "id": "f3e3c9ae",
   "metadata": {},
   "outputs": [],
   "source": [
    "print(ref_array)"
   ]
  },
  {
   "cell_type": "code",
   "execution_count": null,
   "id": "824a0738",
   "metadata": {},
   "outputs": [],
   "source": [
    "list1 = [1,2,3,4]\n",
    "# append\n",
    "list1.append('hello')\n",
    "\n",
    "print(list1)"
   ]
  },
  {
   "cell_type": "code",
   "execution_count": null,
   "id": "4d90fbae",
   "metadata": {},
   "outputs": [],
   "source": [
    "# clear\n",
    "list1.clear()\n",
    "print(list1)"
   ]
  },
  {
   "cell_type": "code",
   "execution_count": null,
   "id": "4df51c3f",
   "metadata": {},
   "outputs": [],
   "source": []
  }
 ],
 "metadata": {
  "kernelspec": {
   "display_name": "DSA",
   "language": "python",
   "name": "python3"
  },
  "language_info": {
   "codemirror_mode": {
    "name": "ipython",
    "version": 3
   },
   "file_extension": ".py",
   "mimetype": "text/x-python",
   "name": "python",
   "nbconvert_exporter": "python",
   "pygments_lexer": "ipython3",
   "version": "3.12.4"
  }
 },
 "nbformat": 4,
 "nbformat_minor": 5
}
