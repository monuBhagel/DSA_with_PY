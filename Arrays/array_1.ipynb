{
 "cells": [
  {
   "cell_type": "markdown",
   "id": "3cf99d85",
   "metadata": {},
   "source": [
    "### Here  we will do \n",
    "\n",
    "1. create a referential array which mimic the working of a python list. \n",
    "2. making len() to check the length of array. ✅\n",
    "3. adding append function. ✅ "
   ]
  },
  {
   "cell_type": "code",
   "execution_count": null,
   "id": "45a0040f",
   "metadata": {},
   "outputs": [],
   "source": [
    "# creating referential array.\n",
    "import ctypes\n",
    "\n",
    "class RefArray:\n",
    "    \n",
    "    # constructor to initialize the array\n",
    "    def __init__(self):\n",
    "        \n",
    "        self.size = 1\n",
    "        self.items = 0\n",
    "        \n",
    "        # initial function call.\n",
    "        self.arr = self.__create_array(self.size) # function call to create an array of size 1\n",
    "    \n",
    "    '''-----------------------------------------------------------------------------------------------'''\n",
    "    def __len__(self):\n",
    "        return self.items\n",
    "     # def __str__(self): ## this function allow us to print the things we want when we use print() \n",
    "                        ## on object directly without we only the address of the object.\n",
    "                        # #     return f\"you just created an array of size {self.size} & it has {self.items} items in it.\"\n",
    "    '''-----------------------------------------------------------------------------------------------'''\n",
    "    # append function.\n",
    "    def append(self, item):\n",
    "        # check if array is full or not \n",
    "        if self.items == self.size:\n",
    "            # resize the array\n",
    "            self.__resize(self.size * 2) # double the size of the array.\n",
    "        \n",
    "        # append the item to the array & increase the item count.\n",
    "        self.arr[self.items] = item\n",
    "        self.items = self.items + 1\n",
    "    \n",
    "    '''-----------------------------------------------------------------------------------------------'''\n",
    "    # resize function definition \n",
    "    def __resize(self, new_size):\n",
    "        # create a new array of increased size.\n",
    "        new_arr = self.__create_array(new_size)\n",
    "        self.size = new_size\n",
    "        \n",
    "        # now copy the old array into the new array.\n",
    "        for i in range(self.items):\n",
    "            new_arr[i] = self.arr[i]\n",
    "        # now remane the new array to the old array.\n",
    "        self.arr = new_arr\n",
    "        \n",
    "    '''------------------------------------------------------------------------------------------------'''\n",
    "\n",
    "    def __create_array(self,size) : # function to create an array of some given size.\n",
    "        return(size * ctypes.py_object)() \n",
    "        '''return an array of some given size & this is an referential array which means\n",
    "        it can hold any type of object or data .''' \n",
    "    \n",
    "    '''------------------------------------------------------------------------------------------------'''\n",
    "    "
   ]
  },
  {
   "cell_type": "code",
   "execution_count": 19,
   "id": "db4af76e",
   "metadata": {},
   "outputs": [
    {
     "name": "stdout",
     "output_type": "stream",
     "text": [
      "<__main__.RefArray object at 0x119e26120>\n"
     ]
    },
    {
     "data": {
      "text/plain": [
       "'as we just created an object of RefArray class \\nso this statement will print the object reference or say memort address.\\nlike this  <__main__.RefArray object at 0x119e1dcd0>'"
      ]
     },
     "execution_count": 19,
     "metadata": {},
     "output_type": "execute_result"
    }
   ],
   "source": [
    "# creating an object of RefArray.\n",
    "\n",
    "ref_array = RefArray()\n",
    "\n",
    "print(ref_array) \n",
    "'''as we just created an object of RefArray class \n",
    "so this statement will print the object reference or say memort address.\n",
    "like this  <__main__.RefArray object at 0x119e1dcd0>'''"
   ]
  },
  {
   "cell_type": "code",
   "execution_count": 20,
   "id": "2a07a98f",
   "metadata": {},
   "outputs": [],
   "source": [
    "ref_array.append(1)\n",
    "ref_array.append(2)\n",
    "ref_array.append(3)\n",
    "ref_array.append(4)\n",
    "ref_array.append('hello')"
   ]
  },
  {
   "cell_type": "code",
   "execution_count": 21,
   "id": "d2d846b4",
   "metadata": {},
   "outputs": [
    {
     "data": {
      "text/plain": [
       "5"
      ]
     },
     "execution_count": 21,
     "metadata": {},
     "output_type": "execute_result"
    }
   ],
   "source": [
    "# using the len() function on the array.\n",
    "len(ref_array)"
   ]
  },
  {
   "cell_type": "code",
   "execution_count": null,
   "id": "e440d1ce",
   "metadata": {},
   "outputs": [],
   "source": [
    "# using the append() funtion to add an item in the array."
   ]
  },
  {
   "cell_type": "code",
   "execution_count": 15,
   "id": "824a0738",
   "metadata": {},
   "outputs": [
    {
     "name": "stdout",
     "output_type": "stream",
     "text": [
      "[1, 2, 3, 4, 'hello']\n"
     ]
    }
   ],
   "source": [
    "list1 = [1,2,3,4]\n",
    "# append\n",
    "list1.append('hello')\n",
    "\n",
    "print(list1)"
   ]
  }
 ],
 "metadata": {
  "kernelspec": {
   "display_name": "DSA",
   "language": "python",
   "name": "python3"
  },
  "language_info": {
   "codemirror_mode": {
    "name": "ipython",
    "version": 3
   },
   "file_extension": ".py",
   "mimetype": "text/x-python",
   "name": "python",
   "nbconvert_exporter": "python",
   "pygments_lexer": "ipython3",
   "version": "3.12.4"
  }
 },
 "nbformat": 4,
 "nbformat_minor": 5
}
